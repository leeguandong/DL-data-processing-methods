{
 "cells": [
  {
   "cell_type": "code",
   "execution_count": 3,
   "metadata": {
    "collapsed": true
   },
   "outputs": [
    {
     "name": "stdout",
     "output_type": "stream",
     "text": [
      "Epoch: 0 |Step: 0 |batch x: [1. 6. 3. 4. 8.] |batch_y: [10.  5.  8.  7.  3.]\nEpoch: 0 |Step: 1 |batch x: [ 2.  5.  9. 10.  7.] |batch_y: [9. 6. 2. 1. 4.]\n"
     ]
    },
    {
     "name": "stdout",
     "output_type": "stream",
     "text": [
      "Epoch: 1 |Step: 0 |batch x: [6. 8. 4. 5. 9.] |batch_y: [5. 3. 7. 6. 2.]\nEpoch: 1 |Step: 1 |batch x: [ 3.  1.  2. 10.  7.] |batch_y: [ 8. 10.  9.  1.  4.]\n"
     ]
    },
    {
     "name": "stdout",
     "output_type": "stream",
     "text": [
      "Epoch: 2 |Step: 0 |batch x: [2. 5. 9. 1. 6.] |batch_y: [ 9.  6.  2. 10.  5.]\nEpoch: 2 |Step: 1 |batch x: [ 8.  4.  3. 10.  7.] |batch_y: [3. 7. 8. 1. 4.]\n"
     ]
    }
   ],
   "source": [
    "import torch\n",
    "import torch.utils.data as Data\n",
    "\n",
    "BATCH_SIZE = 5\n",
    "\n",
    "x = torch.linspace(1, 10, 10)\n",
    "y = torch.linspace(10, 1, 10)\n",
    "\n",
    "torch_dataset = Data.TensorDataset(x, y)\n",
    "loader = Data.DataLoader(\n",
    "    dataset=torch_dataset,\n",
    "    batch_size=BATCH_SIZE,\n",
    "    shuffle=True,\n",
    "    num_workers=2,\n",
    ")\n",
    "\n",
    "# 10个数据，batch_size为5，每次可以拆分为2个，也就是说，每一个epcoh是训练了2组，每组5个数据，到了下一个\n",
    "# epoch同样进行这一步。每个epoch都是将所有的数据都训练了一遍\n",
    "for epoch in range(3):\n",
    "    # 每一个epoch都可以打开顺序\n",
    "    for step, (batch_x, batch_y) in enumerate(loader):\n",
    "        # training\n",
    "        print('Epoch:', epoch, '|Step:', step, '|batch x:', batch_x.numpy(),\n",
    "              '|batch_y:', batch_y.numpy())"
   ]
  },
  {
   "cell_type": "code",
   "execution_count": null,
   "metadata": {},
   "outputs": [],
   "source": [
    ""
   ]
  }
 ],
 "metadata": {
  "kernelspec": {
   "display_name": "Python 2",
   "language": "python",
   "name": "python2"
  },
  "language_info": {
   "codemirror_mode": {
    "name": "ipython",
    "version": 2.0
   },
   "file_extension": ".py",
   "mimetype": "text/x-python",
   "name": "python",
   "nbconvert_exporter": "python",
   "pygments_lexer": "ipython2",
   "version": "2.7.6"
  }
 },
 "nbformat": 4,
 "nbformat_minor": 0
}