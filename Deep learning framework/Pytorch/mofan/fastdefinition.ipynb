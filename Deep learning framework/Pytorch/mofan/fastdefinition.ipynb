{
 "cells": [
  {
   "cell_type": "code",
   "execution_count": 1,
   "metadata": {
    "collapsed": true
   },
   "outputs": [
    {
     "data": {
      "image/png": "[encoded data removed]",
      "text/plain": [
       "<matplotlib.figure.Figure at 0x5da3d30>"
      ]
     },
     "metadata": {},
     "output_type": "display_data"
    }
   ],
   "source": [
    "import torch\n",
    "from torch.autograd import Variable\n",
    "import torch.nn.functional as F\n",
    "import matplotlib.pyplot as plt\n",
    "\n",
    "x = torch.unsqueeze(torch.linspace(-1, 1, 100), dim=1)\n",
    "y = x.pow(2) + 0.2 * torch.rand(x.size())\n",
    "\n",
    "x, y = Variable(x), Variable(y)\n",
    "\n",
    "plt.scatter(x.data.numpy(), y.data.numpy())\n",
    "plt.show()"
   ]
  },
  {
   "cell_type": "code",
   "execution_count": 4,
   "metadata": {},
   "outputs": [
    {
     "name": "stdout",
     "output_type": "stream",
     "text": [
      "Net1(\n  (hidden): Linear(in_features=2, out_features=10, bias=True)\n  (predict): Linear(in_features=10, out_features=2, bias=True)\n)\nSequential(\n  (0): Linear(in_features=2, out_features=10, bias=True)\n  (1): ReLU()\n  (2): Linear(in_features=10, out_features=2, bias=True)\n)\n"
     ]
    }
   ],
   "source": [
    "# method1\n",
    "class Net1(torch.nn.Module):\n",
    "    def __init__(self, n_feature, n_hidden, n_output):\n",
    "        super(Net1, self).__init__()\n",
    "        self.hidden = torch.nn.Linear(n_feature, n_hidden)\n",
    "        self.predict = torch.nn.Linear(n_hidden, n_output)\n",
    "\n",
    "    def forward(self, x):\n",
    "        x = F.relu(self.hidden(x))\n",
    "        x = self.predict(x)\n",
    "        return x\n",
    "\n",
    "\n",
    "net1 = Net1(2, 10, 2)\n",
    "\n",
    "# method2\n",
    "net2 = torch.nn.Sequential(\n",
    "    torch.nn.Linear(2, 10),\n",
    "    torch.nn.ReLU(),\n",
    "    torch.nn.Linear(10, 2)\n",
    ")\n",
    "\n",
    "print(net1)\n",
    "print(net2)"
   ]
  },
  {
   "cell_type": "code",
   "execution_count": null,
   "metadata": {},
   "outputs": [],
   "source": [
    ""
   ]
  }
 ],
 "metadata": {
  "kernelspec": {
   "display_name": "Python 2",
   "language": "python",
   "name": "python2"
  },
  "language_info": {
   "codemirror_mode": {
    "name": "ipython",
    "version": 2.0
   },
   "file_extension": ".py",
   "mimetype": "text/x-python",
   "name": "python",
   "nbconvert_exporter": "python",
   "pygments_lexer": "ipython2",
   "version": "2.7.6"
  }
 },
 "nbformat": 4,
 "nbformat_minor": 0
}